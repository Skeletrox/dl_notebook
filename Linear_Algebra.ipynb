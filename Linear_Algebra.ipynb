{
  "nbformat": 4,
  "nbformat_minor": 0,
  "metadata": {
    "colab": {
      "name": "Linear Algebra.ipynb",
      "version": "0.3.2",
      "provenance": [],
      "include_colab_link": true
    },
    "kernelspec": {
      "display_name": "Python 3",
      "language": "python",
      "name": "python3"
    }
  },
  "cells": [
    {
      "cell_type": "markdown",
      "metadata": {
        "id": "view-in-github",
        "colab_type": "text"
      },
      "source": [
        "[View in Colaboratory](https://colab.research.google.com/github/Skeletrox/dl_notebook/blob/master/Linear_Algebra.ipynb)"
      ]
    },
    {
      "metadata": {
        "id": "y2VLITs2IvD4",
        "colab_type": "text"
      },
      "cell_type": "markdown",
      "source": [
        "# Linear Algebra"
      ]
    },
    {
      "metadata": {
        "id": "f96Uf2veIvD8",
        "colab_type": "code",
        "colab": {}
      },
      "cell_type": "code",
      "source": [
        "import numpy as np\n",
        "import math"
      ],
      "execution_count": 0,
      "outputs": []
    },
    {
      "metadata": {
        "id": "5IHyqbF4IvEI",
        "colab_type": "text"
      },
      "cell_type": "markdown",
      "source": [
        "## Scalar\n",
        "\n",
        "A scalar is a single number."
      ]
    },
    {
      "metadata": {
        "id": "MZM07Ak7IvEK",
        "colab_type": "code",
        "colab": {}
      },
      "cell_type": "code",
      "source": [
        "some_scalar = 5"
      ],
      "execution_count": 0,
      "outputs": []
    },
    {
      "metadata": {
        "id": "5EmnrlKRIvES",
        "colab_type": "text"
      },
      "cell_type": "markdown",
      "source": [
        "## Vector\n",
        "\n",
        "A vector is an array of numbers, arranged in an order along a dimension. Elements of a vector are identified by their corresponding subscripts, and are zero-indexed in most programming languages."
      ]
    },
    {
      "metadata": {
        "id": "QxgcYB4FIvEU",
        "colab_type": "code",
        "colab": {}
      },
      "cell_type": "code",
      "source": [
        "some_vector = [1, 2, 3]"
      ],
      "execution_count": 0,
      "outputs": []
    },
    {
      "metadata": {
        "id": "qUBojZNZIvEd",
        "colab_type": "text"
      },
      "cell_type": "markdown",
      "source": [
        "## Matrix\n",
        "\n",
        "A matrix is a two-dimensional array of numbers, where each element is identified by two dimensions instead of one. In most programming languages, a matrix can be defined as a \"vector\" of vectors with equal dimension."
      ]
    },
    {
      "metadata": {
        "id": "QJpVnSwYIvEd",
        "colab_type": "code",
        "colab": {}
      },
      "cell_type": "code",
      "source": [
        "some_matrix = [[1, 2, 3],\n",
        "               [4, 5, 6],\n",
        "               [7, 8, 9]]"
      ],
      "execution_count": 0,
      "outputs": []
    },
    {
      "metadata": {
        "id": "vPtMIuSnIvEk",
        "colab_type": "text"
      },
      "cell_type": "markdown",
      "source": [
        "## Tensor\n",
        "\n",
        "A tensor is a multi (>2) dimensional array, where each element is identified by three or more dimesions. "
      ]
    },
    {
      "metadata": {
        "id": "PJ6IBS0-IvEl",
        "colab_type": "code",
        "colab": {}
      },
      "cell_type": "code",
      "source": [
        "some_tensor = [[[1, 2], [3, 4]],\n",
        "               [[5, 6], [7, 8]]]"
      ],
      "execution_count": 0,
      "outputs": []
    },
    {
      "metadata": {
        "id": "3Jm2kpeMIvEv",
        "colab_type": "text"
      },
      "cell_type": "markdown",
      "source": [
        "## Transpose of a matrix\n",
        "\n",
        "The transpose of a matrix is the matrix with its axes switched, i.e. the horizontal axis becomes the vertical and vice-versa, or the matrix mirrored along its diagonal"
      ]
    },
    {
      "metadata": {
        "id": "HJQUZstUIvEy",
        "colab_type": "code",
        "colab": {}
      },
      "cell_type": "code",
      "source": [
        "old_matrix = [[1, 2],\n",
        "              [3, 4],\n",
        "              [5, 6]]\n",
        "\n",
        "np.transpose(old_matrix)"
      ],
      "execution_count": 0,
      "outputs": []
    },
    {
      "metadata": {
        "id": "juvkody1IvFC",
        "colab_type": "text"
      },
      "cell_type": "markdown",
      "source": [
        "## Adding and multiplying scalars and matrices\n",
        "\n",
        "When adding/multiplying scalars and matrices, the operation is performed over each and every element of the matrix (or a vector)"
      ]
    },
    {
      "metadata": {
        "id": "sq4VvxPbIvFD",
        "colab_type": "code",
        "colab": {}
      },
      "cell_type": "code",
      "source": [
        "rix = np.array([[1, 2],\n",
        "       [3, 4],\n",
        "       [5, 6]])\n",
        "3*rix + 4"
      ],
      "execution_count": 0,
      "outputs": []
    },
    {
      "metadata": {
        "id": "_12tTNXaIvFY",
        "colab_type": "text"
      },
      "cell_type": "markdown",
      "source": [
        "## Multiplying matrices and vectors\n",
        "\n",
        "2 matrices (or vectors) A and B can be multiplied on the following condition that **if A has dimensions (m, n) then B must have dimensions (n, p) where m may or may not equal p.** The product A x B has dimensions **(m, p)**."
      ]
    },
    {
      "metadata": {
        "id": "KW8mvbr_IvFe",
        "colab_type": "code",
        "colab": {}
      },
      "cell_type": "code",
      "source": [
        "mat1 = np.array([[1, 2, 3],\n",
        "                 [4, 5, 6]])\n",
        "\n",
        "mat2 = np.array([[1, 2],\n",
        "                [3, 4],\n",
        "                [5, 6]])\n",
        "\n",
        "np.matmul(mat1, mat2)"
      ],
      "execution_count": 0,
      "outputs": []
    },
    {
      "metadata": {
        "id": "so3ZL6AGIvFp",
        "colab_type": "text"
      },
      "cell_type": "markdown",
      "source": [
        "Matrices can also be multiplied element-wise. The **dot product** of A and B is denoted by **A.B** and can be defined as the product of the corresponding elements of A with B. **A and B must be of the same dimensions!**"
      ]
    },
    {
      "metadata": {
        "id": "1tHshNWNIvFr",
        "colab_type": "code",
        "colab": {}
      },
      "cell_type": "code",
      "source": [
        "mat1 = np.array([[1, 2],\n",
        "                 [3, 4]])\n",
        "\n",
        "mat2 = np.array([[5, 6],\n",
        "                 [7, 8]])\n",
        "\n",
        "np.multiply(mat1, mat2)"
      ],
      "execution_count": 0,
      "outputs": []
    },
    {
      "metadata": {
        "id": "8MJ4-coDIvF0",
        "colab_type": "text"
      },
      "cell_type": "markdown",
      "source": [
        "### Points to remember\n",
        "\n",
        "* Matrix multiplication is NOT commutative.\n",
        "* (AB)<sup>T</sup> = B<sup>T</sup>A<sup>T</sup> \n",
        "* If A and B are vectors, then A<sup>T</sup>B = B<sup>T</sup>A (The resulting product is a scalar)"
      ]
    },
    {
      "metadata": {
        "id": "onyveKohIvF3",
        "colab_type": "text"
      },
      "cell_type": "markdown",
      "source": [
        "## A system of equations\n",
        "\n",
        "A system of linear equations can be defined by the following formula:\n",
        "    \n",
        "***Ax*** = ***b***\n",
        "    \n",
        "where ***A*** is a matrix, while ***x*** and ***b*** are vectors.\n",
        "\n",
        "Expanding, this gives us\n",
        "\n",
        "A<sub>1,:</sub>x = b<sub>1</sub><br />\n",
        "A<sub>2,:</sub>x = b<sub>2</sub><br />\n",
        ".<br />\n",
        ".<br />\n",
        ".<br />\n"
      ]
    },
    {
      "metadata": {
        "id": "2L3hQED0IvF5",
        "colab_type": "text"
      },
      "cell_type": "markdown",
      "source": [
        "### Identity and Inverse matrices\n",
        "\n",
        "An identity matrix is a matrix that does not alter any matrix (or vector) that is multiplied by it. An identity matrix is always a square matrix, and is usually denoted by ***I***.\n",
        "\n",
        "Therefore, for any matrix ***A***, \n",
        "\n",
        "\n",
        "***AI*** = ***IA*** = ***A***."
      ]
    },
    {
      "metadata": {
        "id": "I8ioPxDaIvF7",
        "colab_type": "code",
        "colab": {}
      },
      "cell_type": "code",
      "source": [
        "np.identity(3)"
      ],
      "execution_count": 0,
      "outputs": []
    },
    {
      "metadata": {
        "id": "_ar-g8arIvGE",
        "colab_type": "text"
      },
      "cell_type": "markdown",
      "source": [
        "An inverse of a matrix ***A*** is denoted by ***A<sup>-1</sup>*** and is defined as the matrix which, when multiplied by ***A*** (or vice-versa), returns an identity matrix.\n",
        "\n",
        "Therefore, for a matrix ***A***,\n",
        "\n",
        "***AA<sup>-1</sup>*** = ***A<sup>-1</sup>A*** = ***I***"
      ]
    },
    {
      "metadata": {
        "id": "em8hbRYpIvGF",
        "colab_type": "code",
        "colab": {}
      },
      "cell_type": "code",
      "source": [
        "mat = np.array([[3, 2, 8],\n",
        "       [6, 1, 9],\n",
        "       [7, 8, 4]])\n",
        "\n",
        "np.linalg.inv(mat)"
      ],
      "execution_count": 0,
      "outputs": []
    },
    {
      "metadata": {
        "id": "Wu5hkb2oIvGO",
        "colab_type": "code",
        "colab": {}
      },
      "cell_type": "code",
      "source": [
        "np.matmul(mat, np.linalg.inv(mat))"
      ],
      "execution_count": 0,
      "outputs": []
    },
    {
      "metadata": {
        "id": "QGG5WMemIvGV",
        "colab_type": "text"
      },
      "cell_type": "markdown",
      "source": [
        "### Analytically solving the system of equations\n",
        "\n",
        "The system of equations can be analytically solved by using the inverse of the matrix ***A***.\n",
        "\n",
        "***Ax*** = ***b***\n",
        "\n",
        "***AA<sup>-1</sup>x*** = ***A<sup>-1</sup>b***\n",
        "\n",
        "***Ix*** = ***A<sup>-1</sup>b***\n",
        "\n",
        "***x*** = ***A<sup>-1</sup>b***"
      ]
    },
    {
      "metadata": {
        "id": "PtDR7XS3IvGa",
        "colab_type": "text"
      },
      "cell_type": "markdown",
      "source": [
        "### Points to remember:\n",
        "\n",
        "* If ***A*** is singular, then ***A<sup>-1</sup>*** does not exist. In such cases, a *pseudoinverse* may need to be calculated."
      ]
    },
    {
      "metadata": {
        "id": "spdJnryyIvGc",
        "colab_type": "text"
      },
      "cell_type": "markdown",
      "source": [
        "## Linear Dependence and Span\n",
        "\n",
        "If ***A*** is not singular, then one solution exists for the system of linear equations. Similarly, if ***A*** is singular, then infinitely many, or no solutions exist for the system. Therefore, if both ***x*** and ***y*** satisfy a system of linear equations, then\n",
        "\n",
        "***z*** = a***x*** + (1-a)***y***\n",
        "\n",
        "is also a solution to the equation, for all real a.\n",
        "\n",
        "### Linear Combination\n",
        "\n",
        "The linear combination of a set of vectors {v<sup>(1)</sup>, v<sup>(2)</sup>... v<sup>(n)</sup>} is given by multiplying each vector by a corresponding scalar coefficient and adding them up.\n",
        "\n",
        "The set of all points obtainable by linear combination of the original vectors is called the **span** of the set of vectors."
      ]
    },
    {
      "metadata": {
        "id": "32FF9rdaIvGe",
        "colab_type": "text"
      },
      "cell_type": "markdown",
      "source": [
        "## Norms\n",
        "\n",
        "Norms are methods used to identify the \"size\" of a vector, such as the magnitude of a complex number. This is achieved by adding all the elements of a vector to the p<sup>th</sup> power and then taking the p<sup>th</sup> root of the sum.\n",
        "\n",
        "The p<sup>th</sup> norm of a vector **x** is denoted by ||**x**||<sub>p</sub>"
      ]
    },
    {
      "metadata": {
        "id": "yToOBKiVIvGg",
        "colab_type": "code",
        "colab": {}
      },
      "cell_type": "code",
      "source": [
        "def getNorm(V, p):\n",
        "    # V is the vector and p is the power\n",
        "    receivedSum = 0\n",
        "    for v in V:\n",
        "        receivedSum += math.abs(v)**p\n",
        "    return receivedSum**(1/p)"
      ],
      "execution_count": 0,
      "outputs": []
    },
    {
      "metadata": {
        "id": "gZzbLv3KIvGu",
        "colab_type": "text"
      },
      "cell_type": "markdown",
      "source": [
        "All norms follow the following properties:\n",
        "\n",
        "* f(x) = 0 implies x = 0\n",
        "* f(x + y) <= f(x) + f(y)\n",
        "* f(ax) = |a|f(x) for all real a\n",
        "\n",
        "A very common norm is the L<sup>2</sup> norm, also known as the Euclidean norm. This is just the Euclidean distance from the origin to the point identified by the vector. For a vector ***x***, this is denoted by ***x***<sup>T</sup>***x***\n",
        "\n",
        "Another common norm, especially in machine learning, is the L<sup>infinity</sup> norm, also known as the max norm. The value is simply the largest magnitude in the vector.\n",
        "\n",
        "For vectors, the \"size\" is denoted by the **Frobenius norm**, which is the achieved by computing the L<sup>2</sup> norm of a \"flattened\" version of the matrix, i.e. by summing the squares of every element and getting the square root of the entire thing.\n",
        "\n",
        "The dot product of two vectors can be represented by their norms as\n",
        "\n",
        "***x***<sup>T</sup>***y*** = ||***x***||<sub>2</sub>||***y***||<sub>2</sub>cos(A) where A is the angle between ***x*** and ***y***"
      ]
    },
    {
      "metadata": {
        "id": "ym4SWOiyIvG0",
        "colab_type": "code",
        "colab": {}
      },
      "cell_type": "code",
      "source": [
        "def getFrobeniusNorm(M):\n",
        "    matrixSum = 0\n",
        "    for row in M:\n",
        "        for ele in row:\n",
        "            matrixSum += ele**2\n",
        "    return math.sqrt(matrixSum)"
      ],
      "execution_count": 0,
      "outputs": []
    },
    {
      "metadata": {
        "id": "8vQ3djEhJ5HK",
        "colab_type": "text"
      },
      "cell_type": "markdown",
      "source": [
        "## Diagonal Matrices\n",
        "\n",
        "Matrices with non-diagonal values zero are called Diagonal Matrices, i.e. a matrix **M** is considered a diagonal matrix if **M**<sub>i,j</sub> for all  **i != j.** \n",
        "\n",
        "diag(***v***) is a square matrix with diagonal elements from a vector ***v***.\n",
        "\n",
        "Multiplying a diagonal matrix with a vector is only the dot product of the diagonal vector and the other vector, i.e. diag(***v***)***x*** = ***v*** . ***x***\n",
        "\n",
        "## Symmetric Matrices\n",
        "\n",
        "A symmetric matrix is a matrix that is equal to its own transpose, i.e. a matrix **A** is symmetric if **A** = **A**<sup>T</sup>.\n",
        "\n",
        "## Unit Vector\n",
        "\n",
        "A unit vector is a vector with unit norm.\n",
        "\n",
        "## Orthogonal Vectors\n",
        "\n",
        "Two vectors ***x*** and ***y*** are orthogonal to each other if ***x***<sup>T</sup>***y*** = 0. Orthogonal unit vectors are considered **orthonormal**.\n",
        "\n",
        "## Orthogonal Matrix\n",
        "\n",
        "A Matrix with mutually orthonormal rows and mutually orthonormal columns is called an orthogonal matrix, .e.\n",
        "\n",
        "***A***<sup>T</sup>***A*** = ***A*** ***A***<sup>T</sup> = ***I***,\n",
        "\n",
        "i.e. ***A***<sup>T</sup> = ***A***<sup>-1</sup>\n"
      ]
    },
    {
      "metadata": {
        "id": "oZuj2n6IIvG-",
        "colab_type": "code",
        "colab": {}
      },
      "cell_type": "code",
      "source": [
        "sym_mat = np.array([1,2,3],\n",
        "                   [2,4,5],\n",
        "                   [3,5,6])"
      ],
      "execution_count": 0,
      "outputs": []
    },
    {
      "metadata": {
        "id": "GXo8pYC8J3x4",
        "colab_type": "text"
      },
      "cell_type": "markdown",
      "source": [
        ""
      ]
    },
    {
      "metadata": {
        "id": "bHOPYyx3IvHD",
        "colab_type": "code",
        "colab": {}
      },
      "cell_type": "code",
      "source": [
        ""
      ],
      "execution_count": 0,
      "outputs": []
    }
  ]
}