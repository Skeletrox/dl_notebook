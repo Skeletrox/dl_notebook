{
  "nbformat": 4,
  "nbformat_minor": 0,
  "metadata": {
    "colab": {
      "name": "DeepQNV2.ipynb",
      "provenance": [],
      "collapsed_sections": [],
      "authorship_tag": "ABX9TyNTcquVU567aLr5W6DCO8rr",
      "include_colab_link": true
    },
    "kernelspec": {
      "name": "python3",
      "display_name": "Python 3"
    },
    "accelerator": "GPU"
  },
  "cells": [
    {
      "cell_type": "markdown",
      "metadata": {
        "id": "view-in-github",
        "colab_type": "text"
      },
      "source": [
        "<a href=\"https://colab.research.google.com/github/Skeletrox/dl_notebook/blob/master/DeepQNV2.ipynb\" target=\"_parent\"><img src=\"https://colab.research.google.com/assets/colab-badge.svg\" alt=\"Open In Colab\"/></a>"
      ]
    },
    {
      "cell_type": "markdown",
      "metadata": {
        "id": "SHXttOYX_zTa",
        "colab_type": "text"
      },
      "source": [
        "# 3x3 Treasure Hunter\n",
        "\n",
        "Uses DQL to perform a treasure hunt given static treasure and enemy. Ideally the agent should avoid any cells that pertain to the enemy and directly go towards the treasure."
      ]
    },
    {
      "cell_type": "markdown",
      "metadata": {
        "id": "SSSeGmYPA7E4",
        "colab_type": "text"
      },
      "source": [
        "## Basic Imports\n",
        "\n",
        "Numpy for numerical computation\n",
        "\n",
        "Random for random functions"
      ]
    },
    {
      "cell_type": "code",
      "metadata": {
        "id": "r4qKraaxrbjN",
        "colab_type": "code",
        "colab": {}
      },
      "source": [
        "import numpy as np\n",
        "import random"
      ],
      "execution_count": 0,
      "outputs": []
    },
    {
      "cell_type": "markdown",
      "metadata": {
        "id": "kWOvP5cNBzzp",
        "colab_type": "text"
      },
      "source": [
        "## Pytorch imports\n",
        "\n",
        "Import the neural network module and the Variable class (just for convenience)"
      ]
    },
    {
      "cell_type": "code",
      "metadata": {
        "id": "0otgQTggrg--",
        "colab_type": "code",
        "colab": {}
      },
      "source": [
        "import torch\n",
        "import torch.nn as nn\n",
        "from torch.autograd import Variable"
      ],
      "execution_count": 0,
      "outputs": []
    },
    {
      "cell_type": "markdown",
      "metadata": {
        "id": "4gPBRnq7LadW",
        "colab_type": "text"
      },
      "source": [
        "This is the decision-making neural network. The number of percepts and the number of actions are parameters to modify the input size and the output size based on the problem.\n",
        "\n",
        "Since this is a neural network that implements Pytorch's Module class, the `forward` method has to be defined, which just describes a single execution of the neural network; a forward propagation step."
      ]
    },
    {
      "cell_type": "code",
      "metadata": {
        "id": "H0A1AitnrmI9",
        "colab_type": "code",
        "colab": {}
      },
      "source": [
        "class DQN(nn.Module):\n",
        "  def __init__(self, perceptSize, actionSize):\n",
        "    super(DQN, self).__init__()\n",
        "    self.perceptSize = perceptSize\n",
        "    self.actionSize = actionSize\n",
        "    self.structure = nn.Sequential(\n",
        "      nn.Linear(self.perceptSize, 128),\n",
        "      nn.ReLU(),\n",
        "      nn.Linear(128, 256),\n",
        "      nn.ReLU(),\n",
        "      nn.Linear(256, 128),\n",
        "      nn.ReLU(),\n",
        "      nn.Linear(128, self.actionSize)\n",
        "    )\n",
        "\n",
        "  def forward(self, x):\n",
        "    x = self.structure(x)\n",
        "    return x"
      ],
      "execution_count": 0,
      "outputs": []
    },
    {
      "cell_type": "markdown",
      "metadata": {
        "id": "cT4WOhvvPcCF",
        "colab_type": "text"
      },
      "source": [
        "The `ExpBuffer` is used to store experiences in a deque. As training continues, the deque fills up and slowly replaces old observations with newer ones, improving the model performance.\n",
        "\n",
        "The `push` method adds new samples to the buffer.\n",
        "\n",
        "The `sample` method samples a number of observations randomly from the buffer and returns them to the training algorithm."
      ]
    },
    {
      "cell_type": "code",
      "metadata": {
        "id": "A4UPsizVtbx7",
        "colab_type": "code",
        "colab": {}
      },
      "source": [
        "from collections import deque\n",
        "\n",
        "class ExpBuffer:\n",
        "\n",
        "  def __init__(self, capacity):\n",
        "    self.capacity = capacity\n",
        "    self.buffer = deque(maxlen=capacity)\n",
        "\n",
        "  def push(self, state, action, reward, nextState, done):\n",
        "    experience = (state, action, np.array([reward]), nextState, done)\n",
        "    self.buffer.append(experience)\n",
        "\n",
        "  def generate(self, batchSize):\n",
        "    # Build batch\n",
        "    for i in range(batchSize):\n",
        "      currState = np.array([np.random.randint(3) for i in range(numInputs)])\n",
        "      currentAction = np.random.randint(numActions)\n",
        "      nextState, reward, done = simulate(currState, currentAction)\n",
        "      self.push(currState, currentAction, reward, nextState, done)\n",
        "\n",
        "  def sample(self, batchSize):\n",
        "    stateBatch = []\n",
        "    actionBatch = []\n",
        "    rewardBatch = []\n",
        "    nextStateBatch = []\n",
        "    doneBatch = []\n",
        "\n",
        "    batch = random.sample(self.buffer, batchSize)\n",
        "\n",
        "    for experience in batch:\n",
        "      state, action, reward, nextState, done = experience\n",
        "      stateBatch.append(state)\n",
        "      actionBatch.append(action)\n",
        "      rewardBatch.append(reward)\n",
        "      nextStateBatch.append(nextState)\n",
        "      doneBatch.append(done)\n",
        "\n",
        "    return (stateBatch, actionBatch, rewardBatch, nextStateBatch, doneBatch)\n",
        "\n",
        "\n",
        "  def __len__(self):\n",
        "    return len(self.buffer)"
      ],
      "execution_count": 0,
      "outputs": []
    },
    {
      "cell_type": "markdown",
      "metadata": {
        "id": "nQV-xaYESfVb",
        "colab_type": "text"
      },
      "source": [
        "The agent is the decision maker in the field. it contains a network (something similar to the planning component of your brain) and a buffer (comparable to your memory). The agent generates experiences in the buffer and then samples values in order to improve its prediction."
      ]
    },
    {
      "cell_type": "code",
      "metadata": {
        "id": "u27qlRsPBIQ9",
        "colab_type": "code",
        "colab": {}
      },
      "source": [
        "class Agent:\n",
        "\n",
        "\n",
        "  def __init__(self, perceptSize, numActions, alpha, gamma, bufferSize):\n",
        "    self.perceptSize = perceptSize\n",
        "    self.numActions = numActions\n",
        "    self.alpha = alpha\n",
        "    self.gamma = gamma\n",
        "    self.bufferSize = bufferSize\n",
        "    self.buffer = ExpBuffer(self.bufferSize)\n",
        "    self.network = DQN(perceptSize, numActions)\n",
        "    if torch.cuda.is_available():\n",
        "      print(\"Exploiting CUDA availability.\")\n",
        "      self.network.cuda()\n",
        "    self.optimizer = torch.optim.Adam(self.network.parameters(), lr=alpha)\n",
        "    self.MSE_loss = nn.MSELoss()\n",
        "    self.losses = []\n",
        "\n",
        "\n",
        "  def getAction(self, state):\n",
        "    state = Variable(torch.from_numpy(state).float().unsqueeze(0))\n",
        "    qvals = self.network.forward(state)\n",
        "    action = np.argmax(qvals.detach().numpy())\n",
        "    return action\n",
        "\n",
        "\n",
        "  def computeLoss(self, batch):\n",
        "    states, actions, rewards, nextStates, dones = batch\n",
        "    states = torch.FloatTensor(states).cuda()\n",
        "    actions = torch.LongTensor(actions).cuda()\n",
        "    rewards = torch.FloatTensor(rewards).cuda()\n",
        "    nextStates = torch.FloatTensor(nextStates).cuda()\n",
        "    dones = torch.FloatTensor(dones).cuda()\n",
        "    currQ = self.network.forward(states).gather(1, actions.unsqueeze(1))\n",
        "    currQ = currQ.squeeze(1)\n",
        "    nextQ = self.network.forward(nextStates)\n",
        "    maxNextQ = torch.max(nextQ, 1)[0]\n",
        "    expectedQ = rewards.squeeze(1) + (1 - dones) * self.gamma * maxNextQ\n",
        "    loss = self.MSE_loss(currQ, expectedQ.detach())\n",
        "    return loss\n",
        "\n",
        "  \n",
        "  def update(self, batchSize):\n",
        "    self.buffer.generate(batchSize)\n",
        "    batch = self.buffer.sample(batchSize)\n",
        "    loss = self.computeLoss(batch)\n",
        "    self.losses.append(loss.item()) \n",
        "    self.optimizer.zero_grad()\n",
        "    loss.backward()\n",
        "    self.optimizer.step()"
      ],
      "execution_count": 0,
      "outputs": []
    },
    {
      "cell_type": "markdown",
      "metadata": {
        "id": "CuAS_sUUJ0at",
        "colab_type": "text"
      },
      "source": [
        "This is the simulation function. Given a state and an action, it returns the next state, the corresponding reward for the action, and whether or not the state is terminal, i.e. there is nothing more left to do."
      ]
    },
    {
      "cell_type": "code",
      "metadata": {
        "id": "FugLQHFQSZfR",
        "colab_type": "code",
        "colab": {}
      },
      "source": [
        "# define the simulator function.\n",
        "def simulate(state, action):\n",
        "\n",
        "  x = state[0]\n",
        "  y = state[1]\n",
        "\n",
        "  badReward = -1000\n",
        "  goodReward = 1000\n",
        "\n",
        "  # Got gored by a monster\n",
        "  if x == 2 and y == 2:\n",
        "    return state, badReward, True\n",
        "  \n",
        "  # Got the treasure\n",
        "  if x == 2 and y == 0:\n",
        "    return state, goodReward, True\n",
        "\n",
        "  if action == 0: # Going Left\n",
        "    x -= 1\n",
        "  elif action == 1: # Going Right\n",
        "    x += 1\n",
        "  elif action == 2:\n",
        "    y += 1 # Going down\n",
        "  else:\n",
        "    y -= 1 # Going up\n",
        "\n",
        "  # Define boundary crossing penalties\n",
        "  reward = 0\n",
        "  if x < 0:\n",
        "    x = 0\n",
        "    reward = badReward\n",
        "  elif x > 2:\n",
        "    x = 2\n",
        "    reward = badReward\n",
        "  elif y < 0:\n",
        "    y = 0\n",
        "    reward = badReward\n",
        "  elif y > 2:\n",
        "    y = 2\n",
        "    reward = badReward\n",
        "  \n",
        "  return np.array([x, y]), reward, False"
      ],
      "execution_count": 0,
      "outputs": []
    },
    {
      "cell_type": "code",
      "metadata": {
        "id": "AwYX64kSaKmU",
        "colab_type": "code",
        "colab": {}
      },
      "source": [
        "# The inputs are x and y\n",
        "numInputs = 2\n",
        "\n",
        "# The Q values are for up, down, left, right\n",
        "numActions = 4\n",
        "\n",
        "# Define a learning rate and gamma as well\n",
        "alpha = 0.005\n",
        "gamma = 0.9"
      ],
      "execution_count": 0,
      "outputs": []
    },
    {
      "cell_type": "code",
      "metadata": {
        "id": "mi6YJ6C5TUho",
        "colab_type": "code",
        "outputId": "a08891e9-4cdb-4523-f844-1452a9bd6c61",
        "colab": {
          "base_uri": "https://localhost:8080/",
          "height": 35
        }
      },
      "source": [
        "agent = Agent(numInputs, numActions, alpha, gamma, 10000)"
      ],
      "execution_count": 0,
      "outputs": [
        {
          "output_type": "stream",
          "text": [
            "Exploiting CUDA availability.\n"
          ],
          "name": "stdout"
        }
      ]
    },
    {
      "cell_type": "code",
      "metadata": {
        "id": "auBoaM2BtX1_",
        "colab_type": "code",
        "colab": {}
      },
      "source": [
        "# how many epochs?\n",
        "epochs = 10000\n",
        "\n",
        "# what is the batch size?\n",
        "batchSize = 100"
      ],
      "execution_count": 0,
      "outputs": []
    },
    {
      "cell_type": "code",
      "metadata": {
        "id": "SfVdTVTk6KmJ",
        "colab_type": "code",
        "outputId": "1edf179d-f8d0-4759-e500-6edd5e6749fe",
        "colab": {
          "base_uri": "https://localhost:8080/",
          "height": 1000
        }
      },
      "source": [
        "values = []\n",
        "\n",
        "for i in range(1, epochs+1):\n",
        "  agent.update(batchSize)\n",
        "  z = np.mean(agent.losses[-batchSize:])\n",
        "  values.append(z)\n",
        "  if i % 100 == 0:\n",
        "    print(\"Epoch number: {}, Loss: {}\".format(i, z))"
      ],
      "execution_count": 0,
      "outputs": [
        {
          "output_type": "stream",
          "text": [
            "Epoch number: 100, Loss: 285534.04875\n",
            "Epoch number: 200, Loss: 148133.94203125\n",
            "Epoch number: 300, Loss: 71446.19115234374\n",
            "Epoch number: 400, Loss: 39468.0181640625\n",
            "Epoch number: 500, Loss: 23265.26771484375\n",
            "Epoch number: 600, Loss: 9292.081821289063\n",
            "Epoch number: 700, Loss: 3031.8421228027346\n",
            "Epoch number: 800, Loss: 2551.1877215576174\n",
            "Epoch number: 900, Loss: 4047.5766284179685\n",
            "Epoch number: 1000, Loss: 6816.394985351562\n",
            "Epoch number: 1100, Loss: 3022.528687133789\n",
            "Epoch number: 1200, Loss: 7792.6376599121095\n",
            "Epoch number: 1300, Loss: 5737.8447265625\n",
            "Epoch number: 1400, Loss: 13024.30166015625\n",
            "Epoch number: 1500, Loss: 14122.533676757812\n",
            "Epoch number: 1600, Loss: 13743.580795898437\n",
            "Epoch number: 1700, Loss: 9176.350712890626\n",
            "Epoch number: 1800, Loss: 1182.1974891662599\n",
            "Epoch number: 1900, Loss: 542.5534422302246\n",
            "Epoch number: 2000, Loss: 198.79090745925905\n",
            "Epoch number: 2100, Loss: 39.292420110702516\n",
            "Epoch number: 2200, Loss: 7.7038589334487915\n",
            "Epoch number: 2300, Loss: 5.062380889654159\n",
            "Epoch number: 2400, Loss: 2.8002522227168085\n",
            "Epoch number: 2500, Loss: 0.4319505517184734\n",
            "Epoch number: 2600, Loss: 0.46423561215400694\n",
            "Epoch number: 2700, Loss: 3.378777083158493\n",
            "Epoch number: 2800, Loss: 7.081721770763397\n",
            "Epoch number: 2900, Loss: 12.181657164096832\n",
            "Epoch number: 3000, Loss: 6.288340406417847\n",
            "Epoch number: 3100, Loss: 41.27412600517273\n",
            "Epoch number: 3200, Loss: 174.54369327545166\n",
            "Epoch number: 3300, Loss: 337.7609370422363\n",
            "Epoch number: 3400, Loss: 5370.854915771484\n",
            "Epoch number: 3500, Loss: 11725.185317382813\n",
            "Epoch number: 3600, Loss: 10371.639875488281\n",
            "Epoch number: 3700, Loss: 7018.276179199219\n",
            "Epoch number: 3800, Loss: 11560.805830078125\n",
            "Epoch number: 3900, Loss: 9788.756767578125\n",
            "Epoch number: 4000, Loss: 8135.6275\n",
            "Epoch number: 4100, Loss: 6818.89890625\n",
            "Epoch number: 4200, Loss: 4714.147586669922\n",
            "Epoch number: 4300, Loss: 6934.488308105469\n",
            "Epoch number: 4400, Loss: 4862.575610351562\n",
            "Epoch number: 4500, Loss: 2961.2661096191405\n",
            "Epoch number: 4600, Loss: 997.5893026733398\n",
            "Epoch number: 4700, Loss: 383.68976753234864\n",
            "Epoch number: 4800, Loss: 82.5729088306427\n",
            "Epoch number: 4900, Loss: 13.727960815429688\n",
            "Epoch number: 5000, Loss: 12.965595126152039\n",
            "Epoch number: 5100, Loss: 3.527412179708481\n",
            "Epoch number: 5200, Loss: 1.3644329607486725\n",
            "Epoch number: 5300, Loss: 0.8371063318848609\n",
            "Epoch number: 5400, Loss: 1.4636514300107957\n",
            "Epoch number: 5500, Loss: 3.1092765700817107\n",
            "Epoch number: 5600, Loss: 14.712064945697785\n",
            "Epoch number: 5700, Loss: 26.76402398109436\n",
            "Epoch number: 5800, Loss: 125.04795492172241\n",
            "Epoch number: 5900, Loss: 561.0135006713867\n",
            "Epoch number: 6000, Loss: 3187.8425579833984\n",
            "Epoch number: 6100, Loss: 12861.87236328125\n",
            "Epoch number: 6200, Loss: 5273.644506835937\n",
            "Epoch number: 6300, Loss: 1401.4671115112305\n",
            "Epoch number: 6400, Loss: 400.1756539916992\n",
            "Epoch number: 6500, Loss: 70.51049072265624\n",
            "Epoch number: 6600, Loss: 9.364696538448333\n",
            "Epoch number: 6700, Loss: 3.9686261916160586\n",
            "Epoch number: 6800, Loss: 1.2167875108122825\n",
            "Epoch number: 6900, Loss: 0.33030073165893553\n",
            "Epoch number: 7000, Loss: 0.10113739129155874\n",
            "Epoch number: 7100, Loss: 0.14062030833214523\n",
            "Epoch number: 7200, Loss: 0.15800189457833766\n",
            "Epoch number: 7300, Loss: 0.13345515299588442\n",
            "Epoch number: 7400, Loss: 0.29587654031813143\n",
            "Epoch number: 7500, Loss: 1.0261646264791489\n",
            "Epoch number: 7600, Loss: 0.6950025555491447\n",
            "Epoch number: 7700, Loss: 0.5440130607783794\n",
            "Epoch number: 7800, Loss: 0.43432467199862\n",
            "Epoch number: 7900, Loss: 1.1840721249580384\n",
            "Epoch number: 8000, Loss: 5.394001731872558\n",
            "Epoch number: 8100, Loss: 8.519383115768433\n",
            "Epoch number: 8200, Loss: 17.94854802131653\n",
            "Epoch number: 8300, Loss: 38.66209289550781\n",
            "Epoch number: 8400, Loss: 1896.6645425415038\n",
            "Epoch number: 8500, Loss: 12034.561801757813\n",
            "Epoch number: 8600, Loss: 1516.4577506256103\n",
            "Epoch number: 8700, Loss: 142.4530031967163\n",
            "Epoch number: 8800, Loss: 77.45972930908204\n",
            "Epoch number: 8900, Loss: 12.941694140434265\n",
            "Epoch number: 9000, Loss: 3.2473955535888672\n",
            "Epoch number: 9100, Loss: 1.1541038233041763\n",
            "Epoch number: 9200, Loss: 0.9324594041705132\n",
            "Epoch number: 9300, Loss: 0.5563290756940842\n",
            "Epoch number: 9400, Loss: 0.4889343513548374\n",
            "Epoch number: 9500, Loss: 0.3954233871400356\n",
            "Epoch number: 9600, Loss: 0.4551828097552061\n",
            "Epoch number: 9700, Loss: 0.1250600217655301\n",
            "Epoch number: 9800, Loss: 0.037766659893095494\n",
            "Epoch number: 9900, Loss: 0.04089716537855566\n",
            "Epoch number: 10000, Loss: 0.10866580305621028\n"
          ],
          "name": "stdout"
        }
      ]
    },
    {
      "cell_type": "code",
      "metadata": {
        "id": "myzNj8bq-Udz",
        "colab_type": "code",
        "outputId": "3fdf25b4-7938-445c-8f30-d7e676cfe6d6",
        "colab": {
          "base_uri": "https://localhost:8080/",
          "height": 283
        }
      },
      "source": [
        "import matplotlib.pyplot as plt\n",
        "%matplotlib inline\n",
        "plt.plot(values)"
      ],
      "execution_count": 0,
      "outputs": [
        {
          "output_type": "execute_result",
          "data": {
            "text/plain": [
              "[<matplotlib.lines.Line2D at 0x7f27a491fc50>]"
            ]
          },
          "metadata": {
            "tags": []
          },
          "execution_count": 11
        },
        {
          "output_type": "display_data",
          "data": {
            "image/png": "[encoded data removed]",
            "text/plain": [
              "<Figure size 432x288 with 1 Axes>"
            ]
          },
          "metadata": {
            "tags": []
          }
        }
      ]
    },
    {
      "cell_type": "code",
      "metadata": {
        "id": "9TpGr99RSrhp",
        "colab_type": "code",
        "outputId": "740378fc-e7cb-497f-ee2e-569ad8da81d1",
        "colab": {
          "base_uri": "https://localhost:8080/",
          "height": 181
        }
      },
      "source": [
        "from itertools import product\n",
        "predicted = None\n",
        "with torch.no_grad():\n",
        "  indices = [i for i in range(3)]\n",
        "  for x, y in product(indices, indices):\n",
        "    vals = np.array([x, y])\n",
        "    predicted = agent.network(Variable(torch.from_numpy(vals).float().cuda())).cpu().numpy()\n",
        "    # predicted = agent.network(Variable(torch.from_numpy(vals)))\n",
        "    maxRewardResults = np.argmax(predicted)\n",
        "    print(\"For x = {}; y = {}; Predicted rewards: {}\".format(x, y, predicted))"
      ],
      "execution_count": 0,
      "outputs": [
        {
          "output_type": "stream",
          "text": [
            "For x = 0; y = 0; Predicted rewards: [-271.2611   810.7267   656.4166  -270.40433]\n",
            "For x = 0; y = 1; Predicted rewards: [-344.12933  729.875    591.1323   729.81854]\n",
            "For x = 0; y = 2; Predicted rewards: [-409.5605   656.98566 -409.20184  657.09143]\n",
            "For x = 1; y = 0; Predicted rewards: [ 729.1149   900.6348   729.3381  -189.65413]\n",
            "For x = 1; y = 1; Predicted rewards: [656.27167 810.5126  656.6403  810.4524 ]\n",
            "For x = 1; y = 2; Predicted rewards: [ 590.84045 -899.14435 -343.72482  729.66815]\n",
            "For x = 2; y = 0; Predicted rewards: [ 999.8701  1000.41187 1000.135    999.68427]\n",
            "For x = 2; y = 1; Predicted rewards: [ 729.18604 -189.46783 -899.32227  900.831  ]\n",
            "For x = 2; y = 2; Predicted rewards: [ -999.15027  -999.467   -1000.1943   -998.8887 ]\n"
          ],
          "name": "stdout"
        }
      ]
    },
    {
      "cell_type": "code",
      "metadata": {
        "id": "-SYosKSoA9HK",
        "colab_type": "code",
        "colab": {}
      },
      "source": [
        ""
      ],
      "execution_count": 0,
      "outputs": []
    },
    {
      "cell_type": "code",
      "metadata": {
        "id": "8LlVGHtfVdyl",
        "colab_type": "code",
        "colab": {}
      },
      "source": [
        ""
      ],
      "execution_count": 0,
      "outputs": []
    }
  ]
}