{
 "cells": [
  {
   "cell_type": "markdown",
   "metadata": {},
   "source": [
    "# Linear Algebra"
   ]
  },
  {
   "cell_type": "code",
   "execution_count": 1,
   "metadata": {},
   "outputs": [],
   "source": [
    "import numpy as np\n",
    "import math"
   ]
  },
  {
   "cell_type": "markdown",
   "metadata": {},
   "source": [
    "## Scalar\n",
    "\n",
    "A scalar is a single number."
   ]
  },
  {
   "cell_type": "code",
   "execution_count": 2,
   "metadata": {},
   "outputs": [],
   "source": [
    "some_scalar = 5"
   ]
  },
  {
   "cell_type": "markdown",
   "metadata": {},
   "source": [
    "## Vector\n",
    "\n",
    "A vector is an array of numbers, arranged in an order along a dimension. Elements of a vector are identified by their corresponding subscripts, and are zero-indexed in most programming languages."
   ]
  },
  {
   "cell_type": "code",
   "execution_count": 3,
   "metadata": {},
   "outputs": [],
   "source": [
    "some_vector = [1, 2, 3]"
   ]
  },
  {
   "cell_type": "markdown",
   "metadata": {},
   "source": [
    "## Matrix\n",
    "\n",
    "A matrix is a two-dimensional array of numbers, where each element is identified by two dimensions instead of one. In most programming languages, a matrix can be defined as a \"vector\" of vectors with equal dimension."
   ]
  },
  {
   "cell_type": "code",
   "execution_count": 4,
   "metadata": {},
   "outputs": [],
   "source": [
    "some_matrix = [[1, 2, 3],\n",
    "               [4, 5, 6],\n",
    "               [7, 8, 9]]"
   ]
  },
  {
   "cell_type": "markdown",
   "metadata": {},
   "source": [
    "## Tensor\n",
    "\n",
    "A tensor is a multi (>2) dimensional array, where each element is identified by three or more dimesions. "
   ]
  },
  {
   "cell_type": "code",
   "execution_count": 5,
   "metadata": {},
   "outputs": [],
   "source": [
    "some_tensor = [[[1, 2], [3, 4]],\n",
    "               [[5, 6], [7, 8]]]"
   ]
  },
  {
   "cell_type": "markdown",
   "metadata": {},
   "source": [
    "## Transpose of a matrix\n",
    "\n",
    "The transpose of a matrix is the matrix with its axes switched, i.e. the horizontal axis becomes the vertical and vice-versa, or the matrix mirrored along its diagonal"
   ]
  },
  {
   "cell_type": "code",
   "execution_count": 6,
   "metadata": {},
   "outputs": [
    {
     "data": {
      "text/plain": [
       "array([[1, 3, 5],\n",
       "       [2, 4, 6]])"
      ]
     },
     "execution_count": 6,
     "metadata": {},
     "output_type": "execute_result"
    }
   ],
   "source": [
    "old_matrix = [[1, 2],\n",
    "              [3, 4],\n",
    "              [5, 6]]\n",
    "\n",
    "np.transpose(old_matrix)"
   ]
  },
  {
   "cell_type": "markdown",
   "metadata": {},
   "source": [
    "## Adding and multiplying scalars and matrices\n",
    "\n",
    "When adding/multiplying scalars and matrices, the operation is performed over each and every element of the matrix (or a vector)"
   ]
  },
  {
   "cell_type": "code",
   "execution_count": 7,
   "metadata": {},
   "outputs": [
    {
     "data": {
      "text/plain": [
       "array([[ 7, 10],\n",
       "       [13, 16],\n",
       "       [19, 22]])"
      ]
     },
     "execution_count": 7,
     "metadata": {},
     "output_type": "execute_result"
    }
   ],
   "source": [
    "rix = np.array([[1, 2],\n",
    "       [3, 4],\n",
    "       [5, 6]])\n",
    "3*rix + 4"
   ]
  },
  {
   "cell_type": "markdown",
   "metadata": {},
   "source": [
    "## Multiplying matrices and vectors\n",
    "\n",
    "2 matrices (or vectors) A and B can be multiplied on the following condition that **if A has dimensions (m, n) then B must have dimensions (n, p) where m may or may not equal p.** The product A x B has dimensions **(m, p)**."
   ]
  },
  {
   "cell_type": "code",
   "execution_count": 8,
   "metadata": {},
   "outputs": [
    {
     "data": {
      "text/plain": [
       "array([[22, 28],\n",
       "       [49, 64]])"
      ]
     },
     "execution_count": 8,
     "metadata": {},
     "output_type": "execute_result"
    }
   ],
   "source": [
    "mat1 = np.array([[1, 2, 3],\n",
    "                 [4, 5, 6]])\n",
    "\n",
    "mat2 = np.array([[1, 2],\n",
    "                [3, 4],\n",
    "                [5, 6]])\n",
    "\n",
    "np.matmul(mat1, mat2)"
   ]
  },
  {
   "cell_type": "markdown",
   "metadata": {},
   "source": [
    "Matrices can also be multiplied element-wise. The **dot product** of A and B is denoted by **A.B** and can be defined as the product of the corresponding elements of A with B. **A and B must be of the same dimensions!**"
   ]
  },
  {
   "cell_type": "code",
   "execution_count": 9,
   "metadata": {},
   "outputs": [
    {
     "data": {
      "text/plain": [
       "array([[ 5, 12],\n",
       "       [21, 32]])"
      ]
     },
     "execution_count": 9,
     "metadata": {},
     "output_type": "execute_result"
    }
   ],
   "source": [
    "mat1 = np.array([[1, 2],\n",
    "                 [3, 4]])\n",
    "\n",
    "mat2 = np.array([[5, 6],\n",
    "                 [7, 8]])\n",
    "\n",
    "np.multiply(mat1, mat2)"
   ]
  },
  {
   "cell_type": "markdown",
   "metadata": {},
   "source": [
    "### Points to remember\n",
    "\n",
    "* Matrix multiplication is NOT commutative.\n",
    "* (AB)<sup>T</sup> = B<sup>T</sup>A<sup>T</sup> \n",
    "* If A and B are vectors, then A<sup>T</sup>B = B<sup>T</sup>A (The resulting product is a scalar)"
   ]
  },
  {
   "cell_type": "markdown",
   "metadata": {},
   "source": [
    "## A system of equations\n",
    "\n",
    "A system of linear equations can be defined by the following formula:\n",
    "    \n",
    "***Ax*** = ***b***\n",
    "    \n",
    "where ***A*** is a matrix, while ***x*** and ***b*** are vectors.\n",
    "\n",
    "Expanding, this gives us\n",
    "\n",
    "A<sub>1,:</sub>x = b<sub>1</sub><br />\n",
    "A<sub>2,:</sub>x = b<sub>2</sub><br />\n",
    ".<br />\n",
    ".<br />\n",
    ".<br />\n"
   ]
  },
  {
   "cell_type": "markdown",
   "metadata": {},
   "source": [
    "### Identity and Inverse matrices\n",
    "\n",
    "An identity matrix is a matrix that does not alter any matrix (or vector) that is multiplied by it. An identity matrix is always a square matrix, and is usually denoted by ***I***.\n",
    "\n",
    "Therefore, for any matrix ***A***, \n",
    "\n",
    "\n",
    "***AI*** = ***IA*** = ***A***."
   ]
  },
  {
   "cell_type": "code",
   "execution_count": 10,
   "metadata": {},
   "outputs": [
    {
     "data": {
      "text/plain": [
       "array([[1., 0., 0.],\n",
       "       [0., 1., 0.],\n",
       "       [0., 0., 1.]])"
      ]
     },
     "execution_count": 10,
     "metadata": {},
     "output_type": "execute_result"
    }
   ],
   "source": [
    "np.identity(3)"
   ]
  },
  {
   "cell_type": "markdown",
   "metadata": {},
   "source": [
    "An inverse of a matrix ***A*** is denoted by ***A<sup>-1</sup>*** and is defined as the matrix which, when multiplied by ***A*** (or vice-versa), returns an identity matrix.\n",
    "\n",
    "Therefore, for a matrix ***A***,\n",
    "\n",
    "***AA<sup>-1</sup>*** = ***A<sup>-1</sup>A*** = ***I***"
   ]
  },
  {
   "cell_type": "code",
   "execution_count": 11,
   "metadata": {},
   "outputs": [
    {
     "data": {
      "text/plain": [
       "array([[-0.33663366,  0.27722772,  0.04950495],\n",
       "       [ 0.19306931, -0.21782178,  0.1039604 ],\n",
       "       [ 0.2029703 , -0.04950495, -0.04455446]])"
      ]
     },
     "execution_count": 11,
     "metadata": {},
     "output_type": "execute_result"
    }
   ],
   "source": [
    "mat = np.array([[3, 2, 8],\n",
    "       [6, 1, 9],\n",
    "       [7, 8, 4]])\n",
    "\n",
    "np.linalg.inv(mat)"
   ]
  },
  {
   "cell_type": "code",
   "execution_count": 12,
   "metadata": {},
   "outputs": [
    {
     "data": {
      "text/plain": [
       "array([[ 1.00000000e+00, -1.66533454e-16, -5.55111512e-17],\n",
       "       [ 5.55111512e-17,  1.00000000e+00, -2.08166817e-17],\n",
       "       [-2.22044605e-16, -2.77555756e-16,  1.00000000e+00]])"
      ]
     },
     "execution_count": 12,
     "metadata": {},
     "output_type": "execute_result"
    }
   ],
   "source": [
    "np.matmul(mat, np.linalg.inv(mat))"
   ]
  },
  {
   "cell_type": "markdown",
   "metadata": {},
   "source": [
    "### Analytically solving the system of equations\n",
    "\n",
    "The system of equations can be analytically solved by using the inverse of the matrix ***A***.\n",
    "\n",
    "***Ax*** = ***b***\n",
    "\n",
    "***AA<sup>-1</sup>x*** = ***A<sup>-1</sup>b***\n",
    "\n",
    "***Ix*** = ***A<sup>-1</sup>b***\n",
    "\n",
    "***x*** = ***A<sup>-1</sup>b***"
   ]
  },
  {
   "cell_type": "markdown",
   "metadata": {},
   "source": [
    "### Points to remember:\n",
    "\n",
    "* If ***A*** is singular, then ***A<sup>-1</sup>*** does not exist. In such cases, a *pseudoinverse* may need to be calculated."
   ]
  },
  {
   "cell_type": "markdown",
   "metadata": {},
   "source": [
    "## Linear Dependence and Span\n",
    "\n",
    "If ***A*** is not singular, then one solution exists for the system of linear equations. Similarly, if ***A*** is singular, then infinitely many, or no solutions exist for the system. Therefore, if both ***x*** and ***y*** satisfy a system of linear equations, then\n",
    "\n",
    "***z*** = a***x*** + (1-a)***y***\n",
    "\n",
    "is also a solution to the equation, for all real a.\n",
    "\n",
    "### Linear Combination\n",
    "\n",
    "The linear combination of a set of vectors {v<sup>(1)</sup>, v<sup>(2)</sup>... v<sup>(n)</sup>} is given by multiplying each vector by a corresponding scalar coefficient and adding them up.\n",
    "\n",
    "The set of all points obtainable by linear combination of the original vectors is called the **span** of the set of vectors."
   ]
  },
  {
   "cell_type": "markdown",
   "metadata": {},
   "source": [
    "## Norms\n",
    "\n",
    "Norms are methods used to identify the \"size\" of a vector, such as the magnitude of a complex number. This is achieved by adding all the elements of a vector to the p<sup>th</sup> power and then taking the p<sup>th</sup> root of the sum.\n",
    "\n",
    "The p<sup>th</sup> norm of a vector **x** is denoted by ||**x**||<sub>p</sub>"
   ]
  },
  {
   "cell_type": "code",
   "execution_count": 13,
   "metadata": {},
   "outputs": [],
   "source": [
    "def getNorm(V, p):\n",
    "    # V is the vector and p is the power\n",
    "    receivedSum = 0\n",
    "    for v in V:\n",
    "        receivedSum += math.abs(v)**p\n",
    "    return receivedSum**(1/p)"
   ]
  },
  {
   "cell_type": "markdown",
   "metadata": {},
   "source": [
    "All norms follow the following properties:\n",
    "\n",
    "* f(x) = 0 implies x = 0\n",
    "* f(x + y) <= f(x) + f(y)\n",
    "* f(ax) = |a|f(x) for all real a\n",
    "\n",
    "A very common norm is the L<sup>2</sup> norm, also known as the Euclidean norm. This is just the Euclidean distance from the origin to the point identified by the vector. For a vector **x**, this is denoted by **x**<sup>T</sup>**x**\n",
    "\n",
    "Another common norm, especially in machine learning, is the L<sup>infinity</sup> norm, also known as the max norm. The value is simply the largest magnitude in the vector.\n",
    "\n",
    "For vectors, the \"size\" is denoted by the **Frobenius norm**, which is the achieved by computing the L<sup>2</sup> norm of a \"flattened\" version of the matrix, i.e. by summing the squares of every element and getting the square root of the entire thing."
   ]
  },
  {
   "cell_type": "code",
   "execution_count": 14,
   "metadata": {},
   "outputs": [],
   "source": [
    "def getFrobeniusNorm(M):\n",
    "    matrixSum = 0\n",
    "    for row in M:\n",
    "        for ele in row:\n",
    "            matrixSum += ele**2\n",
    "    return math.sqrt(matrixSum)"
   ]
  },
  {
   "cell_type": "code",
   "execution_count": null,
   "metadata": {},
   "outputs": [],
   "source": []
  },
  {
   "cell_type": "code",
   "execution_count": null,
   "metadata": {},
   "outputs": [],
   "source": []
  }
 ],
 "metadata": {
  "kernelspec": {
   "display_name": "Python 3",
   "language": "python",
   "name": "python3"
  },
  "language_info": {
   "codemirror_mode": {
    "name": "ipython",
    "version": 3
   },
   "file_extension": ".py",
   "mimetype": "text/x-python",
   "name": "python",
   "nbconvert_exporter": "python",
   "pygments_lexer": "ipython3",
   "version": "3.6.6"
  }
 },
 "nbformat": 4,
 "nbformat_minor": 2
}
