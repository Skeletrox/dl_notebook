{
 "cells": [
  {
   "cell_type": "markdown",
   "metadata": {},
   "source": [
    "# Linear Algebra"
   ]
  },
  {
   "cell_type": "code",
   "execution_count": 1,
   "metadata": {},
   "outputs": [],
   "source": [
    "import numpy as np"
   ]
  },
  {
   "cell_type": "markdown",
   "metadata": {},
   "source": [
    "## Scalar\n",
    "\n",
    "A scalar is a single number."
   ]
  },
  {
   "cell_type": "code",
   "execution_count": 2,
   "metadata": {},
   "outputs": [],
   "source": [
    "some_scalar = 5"
   ]
  },
  {
   "cell_type": "markdown",
   "metadata": {},
   "source": [
    "## Vector\n",
    "\n",
    "A vector is an array of numbers, arranged in an order along a dimension. Elements of a vector are identified by their corresponding subscripts, and are zero-indexed in most programming languages."
   ]
  },
  {
   "cell_type": "code",
   "execution_count": 3,
   "metadata": {},
   "outputs": [],
   "source": [
    "some_vector = [1, 2, 3]"
   ]
  },
  {
   "cell_type": "markdown",
   "metadata": {},
   "source": [
    "## Matrix\n",
    "\n",
    "A matrix is a two-dimensional array of numbers, where each element is identified by two dimensions instead of one. In most programming languages, a matrix can be defined as a \"vector\" of vectors with equal dimension."
   ]
  },
  {
   "cell_type": "code",
   "execution_count": 5,
   "metadata": {},
   "outputs": [],
   "source": [
    "some_matrix = [[1, 2, 3],\n",
    "               [4, 5, 6],\n",
    "               [7, 8, 9]]"
   ]
  },
  {
   "cell_type": "markdown",
   "metadata": {},
   "source": [
    "## Tensor\n",
    "\n",
    "A tensor is a multi (>2) dimensional array, where each element is identified by three or more dimesions. "
   ]
  },
  {
   "cell_type": "code",
   "execution_count": 7,
   "metadata": {},
   "outputs": [],
   "source": [
    "some_tensor = [[[1, 2], [3, 4]],\n",
    "               [[5, 6], [7, 8]]]"
   ]
  },
  {
   "cell_type": "markdown",
   "metadata": {},
   "source": [
    "## Transpose of a matrix\n",
    "\n",
    "The transpose of a matrix is the matrix with its axes switched, i.e. the horizontal axis becomes the vertical and vice-versa, or the matrix mirrored along its diagonal"
   ]
  },
  {
   "cell_type": "code",
   "execution_count": 9,
   "metadata": {},
   "outputs": [
    {
     "data": {
      "text/plain": [
       "array([[1, 3, 5],\n",
       "       [2, 4, 6]])"
      ]
     },
     "execution_count": 9,
     "metadata": {},
     "output_type": "execute_result"
    }
   ],
   "source": [
    "old_matrix = [[1, 2],\n",
    "              [3, 4],\n",
    "              [5, 6]]\n",
    "\n",
    "np.transpose(old_matrix)"
   ]
  },
  {
   "cell_type": "markdown",
   "metadata": {},
   "source": [
    "## Adding and multiplying scalars and matrices\n",
    "\n",
    "When adding/multiplying scalars and matrices, the operation is performed over each and every element of the matrix (or a vector)"
   ]
  },
  {
   "cell_type": "code",
   "execution_count": 11,
   "metadata": {},
   "outputs": [
    {
     "data": {
      "text/plain": [
       "array([[ 7, 10],\n",
       "       [13, 16],\n",
       "       [19, 22]])"
      ]
     },
     "execution_count": 11,
     "metadata": {},
     "output_type": "execute_result"
    }
   ],
   "source": [
    "rix = np.array([[1, 2],\n",
    "       [3, 4],\n",
    "       [5, 6]])\n",
    "3*rix + 4"
   ]
  },
  {
   "cell_type": "markdown",
   "metadata": {},
   "source": [
    "## Multiplying matrices and vectors\n",
    "\n",
    "2 matrices (or vectors) A and B can be multiplied on the following condition that **if A has dimensions (m, n) then B must have dimensions (n, p) where m may or may not equal p.** The product A x B has dimensions **(m, p)**."
   ]
  },
  {
   "cell_type": "code",
   "execution_count": 13,
   "metadata": {},
   "outputs": [
    {
     "data": {
      "text/plain": [
       "array([[22, 28],\n",
       "       [49, 64]])"
      ]
     },
     "execution_count": 13,
     "metadata": {},
     "output_type": "execute_result"
    }
   ],
   "source": [
    "mat1 = np.array([[1, 2, 3],\n",
    "                 [4, 5, 6]])\n",
    "\n",
    "mat2 = np.array([[1, 2],\n",
    "                [3, 4],\n",
    "                [5, 6]])\n",
    "\n",
    "np.matmul(mat1, mat2)"
   ]
  },
  {
   "cell_type": "markdown",
   "metadata": {},
   "source": [
    "Matrices can also be multiplied element-wise. The **dot product** of A and B is denoted by **A.B** and can be defined as the product of the corresponding elements of A with B. **A and B must be of the same dimensions!**"
   ]
  },
  {
   "cell_type": "code",
   "execution_count": 14,
   "metadata": {},
   "outputs": [
    {
     "data": {
      "text/plain": [
       "array([[ 5, 12],\n",
       "       [21, 32]])"
      ]
     },
     "execution_count": 14,
     "metadata": {},
     "output_type": "execute_result"
    }
   ],
   "source": [
    "mat1 = np.array([[1, 2],\n",
    "                 [3, 4]])\n",
    "\n",
    "mat2 = np.array([[5, 6],\n",
    "                 [7, 8]])\n",
    "\n",
    "np.multiply(mat1, mat2)"
   ]
  },
  {
   "cell_type": "markdown",
   "metadata": {},
   "source": [
    "### Points to remember\n",
    "\n",
    "* Matrix multiplication is NOT commutative.\n",
    "* (AB)<sup>T</sup> = B<sup>T</sup>A<sup>T</sup> \n",
    "* If A and B are vectors, then A<sup>T</sup>B = B<sup>T</sup>A (The resulting product is a scalar)"
   ]
  },
  {
   "cell_type": "markdown",
   "metadata": {},
   "source": [
    "## A system of equations\n",
    "\n",
    "A system of linear equations can be defined by the following formula:\n",
    "    \n",
    "***Ax*** = ***b***\n",
    "    \n",
    "where ***A*** is a matrix, while ***x*** and ***b*** are vectors.\n",
    "\n",
    "Expanding, this gives us\n",
    "\n",
    "A<sub>1,:</sub>x = b<sub>1</sub><br />\n",
    "A<sub>2,:</sub>x = b<sub>2</sub><br />\n",
    ".<br />\n",
    ".<br />\n",
    ".<br />\n"
   ]
  },
  {
   "cell_type": "markdown",
   "metadata": {},
   "source": [
    "### Identity and Inverse matrices\n",
    "\n",
    "An identity matrix is a matrix that does not alter any matrix (or vector) that is multiplied by it. An identity matrix is always a square matrix, and is usually denoted by ***I***.\n",
    "\n",
    "Therefore, for any matrix ***A***, \n",
    "\n",
    "\n",
    "***AI*** = ***IA*** = ***A***."
   ]
  },
  {
   "cell_type": "code",
   "execution_count": 15,
   "metadata": {},
   "outputs": [
    {
     "data": {
      "text/plain": [
       "array([[1., 0., 0.],\n",
       "       [0., 1., 0.],\n",
       "       [0., 0., 1.]])"
      ]
     },
     "execution_count": 15,
     "metadata": {},
     "output_type": "execute_result"
    }
   ],
   "source": [
    "np.identity(3)"
   ]
  },
  {
   "cell_type": "markdown",
   "metadata": {},
   "source": [
    "An inverse of a matrix ***A*** is denoted by ***A<sup>-1</sup>*** and is defined as the matrix which, when multiplied by ***A*** (or vice-versa), returns an identity matrix.\n",
    "\n",
    "Therefore, for a matrix ***A***,\n",
    "\n",
    "***AA<sup>-1</sup>*** = ***A<sup>-1</sup>A*** = ***I***"
   ]
  },
  {
   "cell_type": "code",
   "execution_count": 19,
   "metadata": {},
   "outputs": [
    {
     "data": {
      "text/plain": [
       "array([[-0.33663366,  0.27722772,  0.04950495],\n",
       "       [ 0.19306931, -0.21782178,  0.1039604 ],\n",
       "       [ 0.2029703 , -0.04950495, -0.04455446]])"
      ]
     },
     "execution_count": 19,
     "metadata": {},
     "output_type": "execute_result"
    }
   ],
   "source": [
    "mat = np.array([[3, 2, 8],\n",
    "       [6, 1, 9],\n",
    "       [7, 8, 4]])\n",
    "\n",
    "np.linalg.inv(mat)"
   ]
  },
  {
   "cell_type": "code",
   "execution_count": 22,
   "metadata": {},
   "outputs": [
    {
     "data": {
      "text/plain": [
       "array([[ 1.00000000e+00, -1.66533454e-16, -5.55111512e-17],\n",
       "       [ 5.55111512e-17,  1.00000000e+00, -2.08166817e-17],\n",
       "       [-2.22044605e-16, -2.77555756e-16,  1.00000000e+00]])"
      ]
     },
     "execution_count": 22,
     "metadata": {},
     "output_type": "execute_result"
    }
   ],
   "source": [
    "np.matmul(mat, np.linalg.inv(mat))"
   ]
  },
  {
   "cell_type": "markdown",
   "metadata": {},
   "source": [
    "### Analytically solving the system of equations\n",
    "\n",
    "The system of equations can be analytically solved by using the inverse of the matrix ***A***.\n",
    "\n",
    "***Ax*** = ***b***\n",
    "\n",
    "***AA<sup>-1</sup>x*** = ***A<sup>-1</sup>b***\n",
    "\n",
    "***Ix*** = ***A<sup>-1</sup>b***\n",
    "\n",
    "***x*** = ***A<sup>-1</sup>b***"
   ]
  },
  {
   "cell_type": "markdown",
   "metadata": {},
   "source": [
    "### Points to remember:\n",
    "\n",
    "* If ***A*** is singular, then ***A<sup>-1</sup>*** does not exist. In such cases, a *pseudoinverse* may need to be calculated."
   ]
  },
  {
   "cell_type": "markdown",
   "metadata": {},
   "source": [
    "## Linear Dependence and Span\n",
    "\n",
    "If ***A*** is not singular, then one solution exists for the system of linear equations. Similarly, if ***A*** is singular, then infinitely many, or no solutions exist for the system. Therefore, if both ***x*** and ***y*** satisfy a system of linear equations, then\n",
    "\n",
    "***z*** = a***x*** + (1-a)***y***\n",
    "\n",
    "is also a solution to the equation."
   ]
  },
  {
   "cell_type": "code",
   "execution_count": null,
   "metadata": {},
   "outputs": [],
   "source": []
  }
 ],
 "metadata": {
  "kernelspec": {
   "display_name": "Python 3",
   "language": "python",
   "name": "python3"
  },
  "language_info": {
   "codemirror_mode": {
    "name": "ipython",
    "version": 3
   },
   "file_extension": ".py",
   "mimetype": "text/x-python",
   "name": "python",
   "nbconvert_exporter": "python",
   "pygments_lexer": "ipython3",
   "version": "3.5.2"
  }
 },
 "nbformat": 4,
 "nbformat_minor": 2
}
